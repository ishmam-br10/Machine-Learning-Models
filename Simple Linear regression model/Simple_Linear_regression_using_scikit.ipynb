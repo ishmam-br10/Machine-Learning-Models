{
  "nbformat": 4,
  "nbformat_minor": 0,
  "metadata": {
    "colab": {
      "provenance": []
    },
    "kernelspec": {
      "name": "python3",
      "display_name": "Python 3"
    },
    "language_info": {
      "name": "python"
    }
  },
  "cells": [
    {
      "cell_type": "code",
      "source": [
        "# to run this code, you just can change the data set and the variables\n",
        "# and we will be good to go"
      ],
      "metadata": {
        "id": "DuX5xI8kg58V"
      },
      "execution_count": null,
      "outputs": []
    },
    {
      "cell_type": "code",
      "execution_count": 29,
      "metadata": {
        "id": "OCxT9GbaFp5j"
      },
      "outputs": [],
      "source": [
        "#python packages\n",
        "import seaborn as sns\n",
        "import matplotlib.pyplot as plt\n",
        "from sklearn.model_selection import train_test_split\n",
        "import numpy as np\n",
        "from sklearn.linear_model import LinearRegression"
      ]
    },
    {
      "cell_type": "code",
      "source": [
        "# sample dataset load korlam just ekta\n",
        "iris = sns.load_dataset('iris')\n",
        "# print(iris)"
      ],
      "metadata": {
        "id": "ho2Qw_3jF7AH"
      },
      "execution_count": 19,
      "outputs": []
    },
    {
      "cell_type": "code",
      "source": [
        "# taking only those that i need\n",
        "iris = iris[['petal_length', 'petal_width']]\n",
        "# print(iris)"
      ],
      "metadata": {
        "id": "5_tQAUTNGatj"
      },
      "execution_count": 20,
      "outputs": []
    },
    {
      "cell_type": "code",
      "source": [
        "# training variable nebo\n",
        "x = iris[\"petal_length\"]\n",
        "y = iris[\"petal_width\"]\n",
        "# print(x)"
      ],
      "metadata": {
        "id": "1nIOrlUPGvdU"
      },
      "execution_count": 21,
      "outputs": []
    },
    {
      "cell_type": "code",
      "source": [
        "# showing the relation x and y\n",
        "plt.scatter(x, y)\n",
        "plt.xlabel(\"Petal Length\")\n",
        "plt.ylabel(\"Petal Width\")\n",
        "# plt.show()"
      ],
      "metadata": {
        "id": "mx9Kaxw7HIOm"
      },
      "execution_count": null,
      "outputs": []
    },
    {
      "cell_type": "code",
      "source": [
        "# training and test variables\n",
        "X_train, X_test, y_train, y_test = train_test_split(x, y, test_size = 0.4,\n",
        "                                                    random_state = 23)\n",
        "\n",
        "# here the \"test size\" determines how much of the total data I am using for my [n]\n",
        "#[p] test purpose. Here 0.4 means I am using 40% of the total data\n",
        "## random state = random state just takes data randomly. So, there is no bias.\n",
        "# so it doesnot take the upper top rows or the bottom datas\n",
        "# thus random state and test size helps us.\n",
        "# print(X_test)\n",
        "\n",
        "# print(X_train)"
      ],
      "metadata": {
        "id": "HHtMrYKRTV5h"
      },
      "execution_count": 32,
      "outputs": []
    },
    {
      "cell_type": "code",
      "source": [
        "# machine learning model needs two dim data\n",
        "# so we will take help from numpy to reshape the data\n",
        "X_train = np.array(X_train).reshape(-1, 1)\n",
        "y_train = np.array(y_train).reshape(-1, 1)\n",
        "X_test = np.array(X_test).reshape(-1, 1)\n",
        "# print(X_train)"
      ],
      "metadata": {
        "id": "EsNX3YPOXB7i"
      },
      "execution_count": 34,
      "outputs": []
    },
    {
      "cell_type": "code",
      "source": [
        "#linear regreression initiate\n",
        "lr = LinearRegression()"
      ],
      "metadata": {
        "id": "RwcgJshHaKIU"
      },
      "execution_count": 35,
      "outputs": []
    },
    {
      "cell_type": "code",
      "source": [
        "# fitting my train data into a regression frame\n",
        "lr.fit(X_train, y_train)\n"
      ],
      "metadata": {
        "id": "LGsDsl-4bRvg"
      },
      "execution_count": null,
      "outputs": []
    },
    {
      "cell_type": "code",
      "source": [
        "# getting the training parameters m and c from\n",
        "# y = mx + c\n",
        "c = lr.intercept_\n",
        "# print(c)\n",
        "m = lr.coef_\n",
        "# print(m)"
      ],
      "metadata": {
        "id": "RvxBdVF-cQ_5"
      },
      "execution_count": 40,
      "outputs": []
    },
    {
      "cell_type": "code",
      "source": [
        "# prediction\n",
        "Y_Prediction = m * X_train + c\n",
        "# print(Y_Prediction)"
      ],
      "metadata": {
        "id": "zv3tzYjpeM67"
      },
      "execution_count": null,
      "outputs": []
    },
    {
      "cell_type": "code",
      "source": [
        "# prediction using builtin library\n",
        "Y_predic = lr.predict(X_train)\n",
        "# Y_predic"
      ],
      "metadata": {
        "id": "vpAxnUbnejty"
      },
      "execution_count": 49,
      "outputs": []
    },
    {
      "cell_type": "code",
      "source": [
        "# Lets check if we got the best line here !\n",
        "# showing the relation x and y\n",
        "plt.plot(X_train, y_train, \"+\")\n",
        "plt.plot(X_train, Y_predic, color = 'green')\n",
        "plt.xlabel(\"Petal Length\")\n",
        "plt.ylabel(\"Petal Width\")\n",
        "# plt.show()"
      ],
      "metadata": {
        "id": "a9V7twPDfMQz"
      },
      "execution_count": null,
      "outputs": []
    },
    {
      "cell_type": "code",
      "source": [
        "# lets test the model if it can work in the same way using X test and Y test\n",
        "# prediction\n",
        "Y_Prediction_test = m * X_test + c\n",
        "# print(Y_Prediction)"
      ],
      "metadata": {
        "id": "StzKALGtf3DM"
      },
      "execution_count": 55,
      "outputs": []
    },
    {
      "cell_type": "code",
      "source": [
        "# Lets check if we got the best line here !\n",
        "# showing the relation x and y\n",
        "plt.plot(X_test, y_test, \"+\")\n",
        "plt.plot(X_test, Y_Prediction_test, color = 'green')\n",
        "plt.xlabel(\"Petal Length\")\n",
        "plt.ylabel(\"Petal Width\")\n",
        "# plt.show()\n",
        "\n",
        " ### As the system has never seen the data of X test and Y test but still it works\n",
        ""
      ],
      "metadata": {
        "id": "GdjWfmUMgaWV"
      },
      "execution_count": null,
      "outputs": []
    }
  ]
}